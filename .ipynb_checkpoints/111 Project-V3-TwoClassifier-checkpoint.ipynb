{
 "cells": [
  {
   "cell_type": "markdown",
   "metadata": {},
   "source": [
    "# 1 Introduction\n",
    "\n",
    "For this project we wanted to see just how much predictive power - if any - the lyrics of a particular song have towards predicting when it was produced.\n",
    "\n",
    "This could provide evidence that the way songs are written are in fact changing over time. "
   ]
  },
  {
   "cell_type": "markdown",
   "metadata": {},
   "source": [
    "First we import several modules and set a seed for our notebook."
   ]
  },
  {
   "cell_type": "code",
   "execution_count": 1,
   "metadata": {},
   "outputs": [],
   "source": [
    "import pandas as pd\n",
    "import spacy\n",
    "import numpy as np\n",
    "import matplotlib.pyplot as plt\n",
    "from sklearn.metrics import roc_curve,accuracy_score, auc, log_loss,matthews_corrcoef #Plotting ROC curves\n",
    "from sklearn.feature_extraction import text #For vectorizing Text\n",
    "from sklearn.model_selection import train_test_split #For splitting the data\n",
    "from sklearn.naive_bayes import MultinomialNB\n",
    "from sklearn.linear_model import LogisticRegression\n",
    "import sklearn.decomposition\n",
    "import sklearn\n",
    "\n",
    "import nltk #For quick tokenization of lyrics\n",
    "from collections import Counter #Counting tokens\n",
    "\n",
    "from sklearn.pipeline import Pipeline, FeatureUnion\n",
    "\n",
    "\n",
    "nlp = spacy.load('en_core_web_md')\n",
    "\n",
    "import random\n",
    "random.seed(1)\n"
   ]
  },
  {
   "cell_type": "code",
   "execution_count": 2,
   "metadata": {},
   "outputs": [],
   "source": [
    "#Decade vs lyrics\n",
    "\n",
    "#https://www.kaggle.com/rakannimer/billboard-lyrics\n",
    "\n",
    "song_data = pd.read_csv('/Users/drewpritchard/Desktop/UCSB/Winter 2019/LING 111/111 Project/billboard_lyrics_1964-2015.csv',\\\n",
    "                        encoding = 'latin-1')\n"
   ]
  },
  {
   "cell_type": "markdown",
   "metadata": {},
   "source": [
    "Our data consists of the Top 100 BillBoard songs between the years of 1965 to 2015. So we have 5000 observations of songs each containing the title, artist, year, and lyrics among a few other variables.\n",
    "\n",
    "Below we can see the fist five observations of the data."
   ]
  },
  {
   "cell_type": "code",
   "execution_count": 3,
   "metadata": {},
   "outputs": [
    {
     "data": {
      "text/html": [
       "<div>\n",
       "<style scoped>\n",
       "    .dataframe tbody tr th:only-of-type {\n",
       "        vertical-align: middle;\n",
       "    }\n",
       "\n",
       "    .dataframe tbody tr th {\n",
       "        vertical-align: top;\n",
       "    }\n",
       "\n",
       "    .dataframe thead th {\n",
       "        text-align: right;\n",
       "    }\n",
       "</style>\n",
       "<table border=\"1\" class=\"dataframe\">\n",
       "  <thead>\n",
       "    <tr style=\"text-align: right;\">\n",
       "      <th></th>\n",
       "      <th>Rank</th>\n",
       "      <th>Song</th>\n",
       "      <th>Artist</th>\n",
       "      <th>Year</th>\n",
       "      <th>Lyrics</th>\n",
       "      <th>Source</th>\n",
       "    </tr>\n",
       "  </thead>\n",
       "  <tbody>\n",
       "    <tr>\n",
       "      <th>0</th>\n",
       "      <td>1</td>\n",
       "      <td>wooly bully</td>\n",
       "      <td>sam the sham and the pharaohs</td>\n",
       "      <td>1965</td>\n",
       "      <td>sam the sham miscellaneous wooly bully wooly b...</td>\n",
       "      <td>3.0</td>\n",
       "    </tr>\n",
       "    <tr>\n",
       "      <th>1</th>\n",
       "      <td>2</td>\n",
       "      <td>i cant help myself sugar pie honey bunch</td>\n",
       "      <td>four tops</td>\n",
       "      <td>1965</td>\n",
       "      <td>sugar pie honey bunch you know that i love yo...</td>\n",
       "      <td>1.0</td>\n",
       "    </tr>\n",
       "    <tr>\n",
       "      <th>2</th>\n",
       "      <td>3</td>\n",
       "      <td>i cant get no satisfaction</td>\n",
       "      <td>the rolling stones</td>\n",
       "      <td>1965</td>\n",
       "      <td></td>\n",
       "      <td>1.0</td>\n",
       "    </tr>\n",
       "    <tr>\n",
       "      <th>3</th>\n",
       "      <td>4</td>\n",
       "      <td>you were on my mind</td>\n",
       "      <td>we five</td>\n",
       "      <td>1965</td>\n",
       "      <td>when i woke up this morning you were on my mi...</td>\n",
       "      <td>1.0</td>\n",
       "    </tr>\n",
       "    <tr>\n",
       "      <th>4</th>\n",
       "      <td>5</td>\n",
       "      <td>youve lost that lovin feelin</td>\n",
       "      <td>the righteous brothers</td>\n",
       "      <td>1965</td>\n",
       "      <td>you never close your eyes anymore when i kiss...</td>\n",
       "      <td>1.0</td>\n",
       "    </tr>\n",
       "  </tbody>\n",
       "</table>\n",
       "</div>"
      ],
      "text/plain": [
       "   Rank                                      Song  \\\n",
       "0     1                               wooly bully   \n",
       "1     2  i cant help myself sugar pie honey bunch   \n",
       "2     3                i cant get no satisfaction   \n",
       "3     4                       you were on my mind   \n",
       "4     5              youve lost that lovin feelin   \n",
       "\n",
       "                          Artist  Year  \\\n",
       "0  sam the sham and the pharaohs  1965   \n",
       "1                      four tops  1965   \n",
       "2             the rolling stones  1965   \n",
       "3                        we five  1965   \n",
       "4         the righteous brothers  1965   \n",
       "\n",
       "                                              Lyrics  Source  \n",
       "0  sam the sham miscellaneous wooly bully wooly b...     3.0  \n",
       "1   sugar pie honey bunch you know that i love yo...     1.0  \n",
       "2                                                        1.0  \n",
       "3   when i woke up this morning you were on my mi...     1.0  \n",
       "4   you never close your eyes anymore when i kiss...     1.0  "
      ]
     },
     "execution_count": 3,
     "metadata": {},
     "output_type": "execute_result"
    }
   ],
   "source": [
    "song_data[:5]"
   ]
  },
  {
   "cell_type": "markdown",
   "metadata": {},
   "source": [
    "# 2 Preprocessing "
   ]
  },
  {
   "cell_type": "markdown",
   "metadata": {},
   "source": [
    "Our first step before any modeling is basic preprocessing of our data. It's important to perform redumentary cleaning before our exploratory phase so we don't have to deal with errors "
   ]
  },
  {
   "cell_type": "markdown",
   "metadata": {},
   "source": [
    "### 2.1 Removing observations"
   ]
  },
  {
   "cell_type": "markdown",
   "metadata": {},
   "source": [
    "We don't want any observations that have no lyrics data. Without lyrics we cannot gain any predictive power and only clutter our data with noisy observations. Lets remove rows with missing values: both NA's and lyric inputs of *only* space characters."
   ]
  },
  {
   "cell_type": "code",
   "execution_count": 4,
   "metadata": {},
   "outputs": [],
   "source": [
    "#Drop missing values\n",
    "song_data = song_data.dropna()\n",
    "\n",
    "#Set lyrics with empty strings as na\n",
    "for lyr in song_data.Lyrics:\n",
    "    if lyr.isspace():\n",
    "        song_data[song_data.Lyrics == lyr] = None\n",
    "song_data = song_data.dropna()\n",
    "\n",
    "#Drop new missing values if any\n",
    "song_data = song_data.reset_index()"
   ]
  },
  {
   "cell_type": "code",
   "execution_count": 5,
   "metadata": {},
   "outputs": [
    {
     "data": {
      "text/plain": [
       "4866"
      ]
     },
     "execution_count": 5,
     "metadata": {},
     "output_type": "execute_result"
    }
   ],
   "source": [
    "#Number of observations after removing\n",
    "len(song_data)"
   ]
  },
  {
   "cell_type": "markdown",
   "metadata": {},
   "source": [
    "## 2.2 Check for outliers"
   ]
  },
  {
   "cell_type": "markdown",
   "metadata": {},
   "source": [
    "Check for extraneous numerical inputs via the .describe() function."
   ]
  },
  {
   "cell_type": "code",
   "execution_count": 6,
   "metadata": {},
   "outputs": [
    {
     "data": {
      "text/html": [
       "<div>\n",
       "<style scoped>\n",
       "    .dataframe tbody tr th:only-of-type {\n",
       "        vertical-align: middle;\n",
       "    }\n",
       "\n",
       "    .dataframe tbody tr th {\n",
       "        vertical-align: top;\n",
       "    }\n",
       "\n",
       "    .dataframe thead th {\n",
       "        text-align: right;\n",
       "    }\n",
       "</style>\n",
       "<table border=\"1\" class=\"dataframe\">\n",
       "  <thead>\n",
       "    <tr style=\"text-align: right;\">\n",
       "      <th></th>\n",
       "      <th>index</th>\n",
       "      <th>Rank</th>\n",
       "      <th>Year</th>\n",
       "      <th>Source</th>\n",
       "    </tr>\n",
       "  </thead>\n",
       "  <tbody>\n",
       "    <tr>\n",
       "      <th>count</th>\n",
       "      <td>4866.000000</td>\n",
       "      <td>4866.000000</td>\n",
       "      <td>4866.000000</td>\n",
       "      <td>4866.000000</td>\n",
       "    </tr>\n",
       "    <tr>\n",
       "      <th>mean</th>\n",
       "      <td>2580.488903</td>\n",
       "      <td>50.395602</td>\n",
       "      <td>1990.310933</td>\n",
       "      <td>1.404850</td>\n",
       "    </tr>\n",
       "    <tr>\n",
       "      <th>std</th>\n",
       "      <td>1470.261438</td>\n",
       "      <td>28.830338</td>\n",
       "      <td>14.698411</td>\n",
       "      <td>0.893789</td>\n",
       "    </tr>\n",
       "    <tr>\n",
       "      <th>min</th>\n",
       "      <td>0.000000</td>\n",
       "      <td>1.000000</td>\n",
       "      <td>1965.000000</td>\n",
       "      <td>1.000000</td>\n",
       "    </tr>\n",
       "    <tr>\n",
       "      <th>25%</th>\n",
       "      <td>1318.250000</td>\n",
       "      <td>26.000000</td>\n",
       "      <td>1978.000000</td>\n",
       "      <td>1.000000</td>\n",
       "    </tr>\n",
       "    <tr>\n",
       "      <th>50%</th>\n",
       "      <td>2588.500000</td>\n",
       "      <td>50.000000</td>\n",
       "      <td>1990.000000</td>\n",
       "      <td>1.000000</td>\n",
       "    </tr>\n",
       "    <tr>\n",
       "      <th>75%</th>\n",
       "      <td>3854.750000</td>\n",
       "      <td>75.000000</td>\n",
       "      <td>2003.000000</td>\n",
       "      <td>1.000000</td>\n",
       "    </tr>\n",
       "    <tr>\n",
       "      <th>max</th>\n",
       "      <td>5099.000000</td>\n",
       "      <td>100.000000</td>\n",
       "      <td>2015.000000</td>\n",
       "      <td>5.000000</td>\n",
       "    </tr>\n",
       "  </tbody>\n",
       "</table>\n",
       "</div>"
      ],
      "text/plain": [
       "             index         Rank         Year       Source\n",
       "count  4866.000000  4866.000000  4866.000000  4866.000000\n",
       "mean   2580.488903    50.395602  1990.310933     1.404850\n",
       "std    1470.261438    28.830338    14.698411     0.893789\n",
       "min       0.000000     1.000000  1965.000000     1.000000\n",
       "25%    1318.250000    26.000000  1978.000000     1.000000\n",
       "50%    2588.500000    50.000000  1990.000000     1.000000\n",
       "75%    3854.750000    75.000000  2003.000000     1.000000\n",
       "max    5099.000000   100.000000  2015.000000     5.000000"
      ]
     },
     "execution_count": 6,
     "metadata": {},
     "output_type": "execute_result"
    }
   ],
   "source": [
    "song_data.describe()"
   ]
  },
  {
   "cell_type": "markdown",
   "metadata": {},
   "source": [
    "Nothing pops out to us as a problematic value so we move on."
   ]
  },
  {
   "cell_type": "markdown",
   "metadata": {},
   "source": [
    "In total, we have 5866 viable observations of songs with complete lyrics and year entries between 1965 and 2015."
   ]
  },
  {
   "cell_type": "markdown",
   "metadata": {},
   "source": [
    "# 2 Exploration\n",
    "\n",
    "Let's look at some of the variables a little more in depth. This step can help set us up for our modeling by identifying any interesting attributes or anomalies within the lyrics data."
   ]
  },
  {
   "cell_type": "markdown",
   "metadata": {},
   "source": [
    "## 2.1 Artists?"
   ]
  },
  {
   "cell_type": "code",
   "execution_count": 7,
   "metadata": {},
   "outputs": [
    {
     "data": {
      "text/plain": [
       "2357"
      ]
     },
     "execution_count": 7,
     "metadata": {},
     "output_type": "execute_result"
    }
   ],
   "source": [
    "len(list(song_data.Artist.unique()))"
   ]
  },
  {
   "cell_type": "markdown",
   "metadata": {},
   "source": [
    "There are 2357 unique artists of the 4866 total songs. Meaning on average, each artist in the Top 100 has two songs in the Top 100."
   ]
  },
  {
   "cell_type": "markdown",
   "metadata": {},
   "source": [
    "## 2.2 Lyrics Format"
   ]
  },
  {
   "cell_type": "markdown",
   "metadata": {},
   "source": [
    "To get a grasp on how our lyrics are formatted, we decide to print a few of them."
   ]
  },
  {
   "cell_type": "code",
   "execution_count": 8,
   "metadata": {},
   "outputs": [
    {
     "data": {
      "text/plain": [
       "0    sam the sham miscellaneous wooly bully wooly b...\n",
       "1     sugar pie honey bunch you know that i love yo...\n",
       "2     when i woke up this morning you were on my mi...\n",
       "3     you never close your eyes anymore when i kiss...\n",
       "4     when youre alone and life is making you lonel...\n",
       "Name: Lyrics, dtype: object"
      ]
     },
     "execution_count": 8,
     "metadata": {},
     "output_type": "execute_result"
    }
   ],
   "source": [
    "song_data['Lyrics'].head()"
   ]
  },
  {
   "cell_type": "markdown",
   "metadata": {},
   "source": [
    "Each entry in the lyrics column is a single string of the lyrics for that song. It appears that the case for all of them is already lowered."
   ]
  },
  {
   "cell_type": "markdown",
   "metadata": {},
   "source": [
    "## 2.3 Lyric Properties: Lyrics per song"
   ]
  },
  {
   "cell_type": "markdown",
   "metadata": {},
   "source": [
    "What if there is a pattern in the amount lyrics in a top billboard song over time?\n",
    "\n",
    "To check we first use the nltk library- rather than the spacy library because it's faster for these small actions - to tokenize each lyric. Then we get the total number of tokens and append each values to the data frame relative to the appropiate song. "
   ]
  },
  {
   "cell_type": "code",
   "execution_count": 9,
   "metadata": {
    "scrolled": true
   },
   "outputs": [
    {
     "name": "stdout",
     "output_type": "stream",
     "text": [
      "CPU times: user 4.47 s, sys: 11.2 ms, total: 4.48 s\n",
      "Wall time: 4.81 s\n"
     ]
    }
   ],
   "source": [
    "%%time\n",
    "#Instantiate tokenizer\n",
    "tokenizer = nltk.tokenize.TweetTokenizer()\n",
    "LyricLength = []\n",
    "\n",
    "# 1 Tokenize each lyric\n",
    "# 2 Get length of tokens\n",
    "# 3 Append length to list of all lyric lengths\n",
    "for lyricLine in song_data['Lyrics']:\n",
    "    tokens = tokenizer.tokenize(lyricLine)\n",
    "    LyricLength.append(len(tokens))\n",
    "\n",
    "#Add lyric length list to df\n",
    "song_data['LyricLength'] = LyricLength\n",
    "\n",
    "song_data.head()"
   ]
  },
  {
   "cell_type": "markdown",
   "metadata": {},
   "source": [
    "Now we can plot the average length of lyrics vs time to see if there is a trend."
   ]
  },
  {
   "cell_type": "code",
   "execution_count": 10,
   "metadata": {},
   "outputs": [
    {
     "data": {
      "text/plain": [
       "<matplotlib.axes._subplots.AxesSubplot at 0x1a134a4550>"
      ]
     },
     "execution_count": 10,
     "metadata": {},
     "output_type": "execute_result"
    },
    {
     "data": {
      "image/png": "[encoded data removed]",
      "text/plain": [
       "<Figure size 720x360 with 1 Axes>"
      ]
     },
     "metadata": {
      "needs_background": "light"
     },
     "output_type": "display_data"
    }
   ],
   "source": [
    "#Get average lyric length per year\n",
    "avgLyricsbyYear = song_data.groupby('Year')['LyricLength'].sum()/song_data.groupby('Year').size()\n",
    "\n",
    "plt.figure(figsize=(10,5))\n",
    "plt.title('Average Lyrics Per Year')\n",
    "avgLyricsbyYear.plot()"
   ]
  },
  {
   "cell_type": "markdown",
   "metadata": {},
   "source": [
    "We can see a clear upward trend in lyrics until ~2005 where it declines again."
   ]
  },
  {
   "cell_type": "markdown",
   "metadata": {},
   "source": [
    "## 2.4 Lyric Properties: Unique Lyric Frequency"
   ]
  },
  {
   "cell_type": "markdown",
   "metadata": {},
   "source": [
    "Now we want to identify if there is pattern in the frequency of unique lyrics used. *Frequency* is important here. If we just looked for the total number of unique lyrics used we wouldn't be accounting for the positive trend in total number of lyrics we found in the previous section.\n",
    "\n",
    "We use an almost identical method as before to collect our frequency values and plot them."
   ]
  },
  {
   "cell_type": "code",
   "execution_count": 11,
   "metadata": {},
   "outputs": [],
   "source": [
    "#Use counter to combine lyric tokens in a dictionary of their counts\n",
    "# then get length of that dict as the number of unique lyrics\n",
    "uniqueLyricsCount = []\n",
    "for lyricsLine in song_data.Lyrics:\n",
    "    counts = Counter(tokenizer.tokenize(lyricsLine))\n",
    "    uniqueLyricsCount.append(len(counts))"
   ]
  },
  {
   "cell_type": "code",
   "execution_count": 12,
   "metadata": {},
   "outputs": [
    {
     "data": {
      "text/html": [
       "<div>\n",
       "<style scoped>\n",
       "    .dataframe tbody tr th:only-of-type {\n",
       "        vertical-align: middle;\n",
       "    }\n",
       "\n",
       "    .dataframe tbody tr th {\n",
       "        vertical-align: top;\n",
       "    }\n",
       "\n",
       "    .dataframe thead th {\n",
       "        text-align: right;\n",
       "    }\n",
       "</style>\n",
       "<table border=\"1\" class=\"dataframe\">\n",
       "  <thead>\n",
       "    <tr style=\"text-align: right;\">\n",
       "      <th></th>\n",
       "      <th>index</th>\n",
       "      <th>Rank</th>\n",
       "      <th>Song</th>\n",
       "      <th>Artist</th>\n",
       "      <th>Year</th>\n",
       "      <th>Lyrics</th>\n",
       "      <th>Source</th>\n",
       "      <th>LyricLength</th>\n",
       "      <th>UniqueLyricsRatio</th>\n",
       "    </tr>\n",
       "  </thead>\n",
       "  <tbody>\n",
       "    <tr>\n",
       "      <th>0</th>\n",
       "      <td>0</td>\n",
       "      <td>1.0</td>\n",
       "      <td>wooly bully</td>\n",
       "      <td>sam the sham and the pharaohs</td>\n",
       "      <td>1965.0</td>\n",
       "      <td>sam the sham miscellaneous wooly bully wooly b...</td>\n",
       "      <td>3.0</td>\n",
       "      <td>125</td>\n",
       "      <td>0.512000</td>\n",
       "    </tr>\n",
       "    <tr>\n",
       "      <th>1</th>\n",
       "      <td>1</td>\n",
       "      <td>2.0</td>\n",
       "      <td>i cant help myself sugar pie honey bunch</td>\n",
       "      <td>four tops</td>\n",
       "      <td>1965.0</td>\n",
       "      <td>sugar pie honey bunch you know that i love yo...</td>\n",
       "      <td>1.0</td>\n",
       "      <td>204</td>\n",
       "      <td>0.460784</td>\n",
       "    </tr>\n",
       "    <tr>\n",
       "      <th>2</th>\n",
       "      <td>3</td>\n",
       "      <td>4.0</td>\n",
       "      <td>you were on my mind</td>\n",
       "      <td>we five</td>\n",
       "      <td>1965.0</td>\n",
       "      <td>when i woke up this morning you were on my mi...</td>\n",
       "      <td>1.0</td>\n",
       "      <td>152</td>\n",
       "      <td>0.289474</td>\n",
       "    </tr>\n",
       "    <tr>\n",
       "      <th>3</th>\n",
       "      <td>4</td>\n",
       "      <td>5.0</td>\n",
       "      <td>youve lost that lovin feelin</td>\n",
       "      <td>the righteous brothers</td>\n",
       "      <td>1965.0</td>\n",
       "      <td>you never close your eyes anymore when i kiss...</td>\n",
       "      <td>1.0</td>\n",
       "      <td>232</td>\n",
       "      <td>0.379310</td>\n",
       "    </tr>\n",
       "    <tr>\n",
       "      <th>4</th>\n",
       "      <td>5</td>\n",
       "      <td>6.0</td>\n",
       "      <td>downtown</td>\n",
       "      <td>petula clark</td>\n",
       "      <td>1965.0</td>\n",
       "      <td>when youre alone and life is making you lonel...</td>\n",
       "      <td>1.0</td>\n",
       "      <td>239</td>\n",
       "      <td>0.502092</td>\n",
       "    </tr>\n",
       "  </tbody>\n",
       "</table>\n",
       "</div>"
      ],
      "text/plain": [
       "   index  Rank                                      Song  \\\n",
       "0      0   1.0                               wooly bully   \n",
       "1      1   2.0  i cant help myself sugar pie honey bunch   \n",
       "2      3   4.0                       you were on my mind   \n",
       "3      4   5.0              youve lost that lovin feelin   \n",
       "4      5   6.0                                  downtown   \n",
       "\n",
       "                          Artist    Year  \\\n",
       "0  sam the sham and the pharaohs  1965.0   \n",
       "1                      four tops  1965.0   \n",
       "2                        we five  1965.0   \n",
       "3         the righteous brothers  1965.0   \n",
       "4                   petula clark  1965.0   \n",
       "\n",
       "                                              Lyrics  Source  LyricLength  \\\n",
       "0  sam the sham miscellaneous wooly bully wooly b...     3.0          125   \n",
       "1   sugar pie honey bunch you know that i love yo...     1.0          204   \n",
       "2   when i woke up this morning you were on my mi...     1.0          152   \n",
       "3   you never close your eyes anymore when i kiss...     1.0          232   \n",
       "4   when youre alone and life is making you lonel...     1.0          239   \n",
       "\n",
       "   UniqueLyricsRatio  \n",
       "0           0.512000  \n",
       "1           0.460784  \n",
       "2           0.289474  \n",
       "3           0.379310  \n",
       "4           0.502092  "
      ]
     },
     "execution_count": 12,
     "metadata": {},
     "output_type": "execute_result"
    }
   ],
   "source": [
    "#Divide unique lyric counts by number of lyrics to get a ratio\n",
    "uniqueLyricsRatio = []\n",
    "for i in range(len(song_data)):\n",
    "    uniqueLyricsRatio.append(uniqueLyricsCount[i]/LyricLength[i])\n",
    "\n",
    "#Add list of frequencies to df\n",
    "song_data['UniqueLyricsRatio'] = uniqueLyricsRatio\n",
    "\n",
    "song_data.head()"
   ]
  },
  {
   "cell_type": "code",
   "execution_count": 13,
   "metadata": {},
   "outputs": [
    {
     "data": {
      "text/plain": [
       "<matplotlib.axes._subplots.AxesSubplot at 0x1a29cbc550>"
      ]
     },
     "execution_count": 13,
     "metadata": {},
     "output_type": "execute_result"
    },
    {
     "data": {
      "image/png": "[encoded data removed]",
      "text/plain": [
       "<Figure size 720x360 with 1 Axes>"
      ]
     },
     "metadata": {
      "needs_background": "light"
     },
     "output_type": "display_data"
    }
   ],
   "source": [
    "\n",
    "#Get average unique lyric length per year\n",
    "avgUniqueLyricsRatiobyYear = song_data.groupby('Year')['UniqueLyricsRatio'].sum()/song_data.groupby('Year').size()\n",
    "\n",
    "plt.figure(figsize=(10,5))\n",
    "plt.title('Average Ratio of Unique/Total Lyrics Per Year')\n",
    "avgUniqueLyricsRatiobyYear.plot()"
   ]
  },
  {
   "cell_type": "markdown",
   "metadata": {},
   "source": [
    "Interestingly there is a *negative* trend in the ratio of unique lyrics to total lyrics over our time period. This is interesting, while the total lyrics seem to be increasing over time per song, the rate at which they use distinct words is decreasing."
   ]
  },
  {
   "cell_type": "markdown",
   "metadata": {},
   "source": [
    "## 2.5 Repitition"
   ]
  },
  {
   "cell_type": "markdown",
   "metadata": {},
   "source": [
    "After seeing the trend in unique lyric frequency, it would be interesting to see if there is more repitition in newer songs than old ones.\n",
    "\n",
    "By *repitition*, we mean the number of times a song repeats a pair of words or a bigram. This definition encapsulates any time a song's lyrics say the same two word phrase and also accounts for anytime a song repeats entire sentences.\n",
    "\n",
    "For instance, the lyrics 'boom, boom, boom' or 'la, la, la' would split into ['boom boom', 'boom boom'] and ['la la', 'la la'], each earning a repitition score of 2 for the song.\n",
    "\n",
    "'i love your hair, i love your clothes, i love your eyes' would split into: ['i love', 'love your', 'your hair', 'i love', 'love your', 'your clothes', 'i love', 'love your', 'your eyes']. This earns a repetition score of 6 because 'i love' and 'love your' is repeated 3 times each."
   ]
  },
  {
   "cell_type": "code",
   "execution_count": 14,
   "metadata": {},
   "outputs": [],
   "source": [
    "bigrams = []\n",
    "#Get list of bigrams\n",
    "for lyricsLine in song_data.Lyrics:\n",
    "    toks = tokenizer.tokenize(lyricsLine)\n",
    "    bigrams.append(list(nltk.ngrams(toks, 2)))\n"
   ]
  },
  {
   "cell_type": "code",
   "execution_count": 15,
   "metadata": {},
   "outputs": [],
   "source": [
    "#Aggregate identical bigrams and count them to find unique bigrams.\n",
    "# similar to what we did with unique lyrics\n",
    "uniqueBigrams = []\n",
    "for i in range(len(bigrams)):\n",
    "    uniqueBigrams.append(len(Counter(bigrams[i])))\n"
   ]
  },
  {
   "cell_type": "code",
   "execution_count": 16,
   "metadata": {},
   "outputs": [],
   "source": [
    "#Frequency of repetition\n",
    "\n",
    "#Divide repeat bigrams count by number of lyrics to get a ratio\n",
    "repBigramsRatio = []\n",
    "for i in range(len(song_data)):\n",
    "    repBigramsRatio.append(uniqueBigrams[i]/LyricLength[i])\n",
    "\n",
    "song_data['RepBigramsRatio'] = repBigramsRatio\n"
   ]
  },
  {
   "cell_type": "code",
   "execution_count": 17,
   "metadata": {},
   "outputs": [
    {
     "data": {
      "text/plain": [
       "<matplotlib.axes._subplots.AxesSubplot at 0x1a582e18d0>"
      ]
     },
     "execution_count": 17,
     "metadata": {},
     "output_type": "execute_result"
    },
    {
     "data": {
      "image/png": "[encoded data removed]",
      "text/plain": [
       "<Figure size 720x360 with 1 Axes>"
      ]
     },
     "metadata": {
      "needs_background": "light"
     },
     "output_type": "display_data"
    }
   ],
   "source": [
    "#Get average level of repetitivness for each year's work of songs\n",
    "repetitivnessByYear = song_data.groupby('Year')['RepBigramsRatio'].sum()/song_data.groupby('Year').size()\n",
    "\n",
    "#Plot average level of repetitivness\n",
    "plt.figure(figsize=(10,5))\n",
    "plt.title('Average Frequency of Repetition Per Year')\n",
    "repetitivnessByYear.plot()\n",
    "\n",
    "\n"
   ]
  },
  {
   "cell_type": "markdown",
   "metadata": {},
   "source": [
    "Another interesting find! After scaling relative to the length of lyrics as we did before with the unique lyrics, we see that more recent top billboard songs on average are repeating lyrics less often than in the past."
   ]
  },
  {
   "cell_type": "markdown",
   "metadata": {},
   "source": [
    "# 3 Feature Engineering\n",
    "\n",
    "We have already created three interesting features during our exploratory phase that we will include in our modeling. This was a fortunate accident. While looking at how lyrics attributes correlate we found trends corresponding to the year a song was produced. This is a large hint that there may be predictive power within these attributes.\n",
    "    \n",
    "        "
   ]
  },
  {
   "cell_type": "markdown",
   "metadata": {},
   "source": [
    "## 3.1 Binning Years into Centuries\n",
    "\n",
    "We want to bin the years to create a binary class variable. **We label a 1900's song as 0 and a 2000's song as 1**."
   ]
  },
  {
   "cell_type": "code",
   "execution_count": 18,
   "metadata": {},
   "outputs": [
    {
     "data": {
      "text/html": [
       "<div>\n",
       "<style scoped>\n",
       "    .dataframe tbody tr th:only-of-type {\n",
       "        vertical-align: middle;\n",
       "    }\n",
       "\n",
       "    .dataframe tbody tr th {\n",
       "        vertical-align: top;\n",
       "    }\n",
       "\n",
       "    .dataframe thead th {\n",
       "        text-align: right;\n",
       "    }\n",
       "</style>\n",
       "<table border=\"1\" class=\"dataframe\">\n",
       "  <thead>\n",
       "    <tr style=\"text-align: right;\">\n",
       "      <th></th>\n",
       "      <th>index</th>\n",
       "      <th>Rank</th>\n",
       "      <th>Song</th>\n",
       "      <th>Artist</th>\n",
       "      <th>Year</th>\n",
       "      <th>Lyrics</th>\n",
       "      <th>Source</th>\n",
       "      <th>LyricLength</th>\n",
       "      <th>UniqueLyricsRatio</th>\n",
       "      <th>RepBigramsRatio</th>\n",
       "      <th>century</th>\n",
       "    </tr>\n",
       "  </thead>\n",
       "  <tbody>\n",
       "    <tr>\n",
       "      <th>0</th>\n",
       "      <td>0</td>\n",
       "      <td>1.0</td>\n",
       "      <td>wooly bully</td>\n",
       "      <td>sam the sham and the pharaohs</td>\n",
       "      <td>1965.0</td>\n",
       "      <td>sam the sham miscellaneous wooly bully wooly b...</td>\n",
       "      <td>3.0</td>\n",
       "      <td>125</td>\n",
       "      <td>0.512000</td>\n",
       "      <td>0.728000</td>\n",
       "      <td>0</td>\n",
       "    </tr>\n",
       "    <tr>\n",
       "      <th>1</th>\n",
       "      <td>1</td>\n",
       "      <td>2.0</td>\n",
       "      <td>i cant help myself sugar pie honey bunch</td>\n",
       "      <td>four tops</td>\n",
       "      <td>1965.0</td>\n",
       "      <td>sugar pie honey bunch you know that i love yo...</td>\n",
       "      <td>1.0</td>\n",
       "      <td>204</td>\n",
       "      <td>0.460784</td>\n",
       "      <td>0.735294</td>\n",
       "      <td>0</td>\n",
       "    </tr>\n",
       "    <tr>\n",
       "      <th>2</th>\n",
       "      <td>3</td>\n",
       "      <td>4.0</td>\n",
       "      <td>you were on my mind</td>\n",
       "      <td>we five</td>\n",
       "      <td>1965.0</td>\n",
       "      <td>when i woke up this morning you were on my mi...</td>\n",
       "      <td>1.0</td>\n",
       "      <td>152</td>\n",
       "      <td>0.289474</td>\n",
       "      <td>0.447368</td>\n",
       "      <td>0</td>\n",
       "    </tr>\n",
       "    <tr>\n",
       "      <th>3</th>\n",
       "      <td>4</td>\n",
       "      <td>5.0</td>\n",
       "      <td>youve lost that lovin feelin</td>\n",
       "      <td>the righteous brothers</td>\n",
       "      <td>1965.0</td>\n",
       "      <td>you never close your eyes anymore when i kiss...</td>\n",
       "      <td>1.0</td>\n",
       "      <td>232</td>\n",
       "      <td>0.379310</td>\n",
       "      <td>0.625000</td>\n",
       "      <td>0</td>\n",
       "    </tr>\n",
       "    <tr>\n",
       "      <th>4</th>\n",
       "      <td>5</td>\n",
       "      <td>6.0</td>\n",
       "      <td>downtown</td>\n",
       "      <td>petula clark</td>\n",
       "      <td>1965.0</td>\n",
       "      <td>when youre alone and life is making you lonel...</td>\n",
       "      <td>1.0</td>\n",
       "      <td>239</td>\n",
       "      <td>0.502092</td>\n",
       "      <td>0.786611</td>\n",
       "      <td>0</td>\n",
       "    </tr>\n",
       "  </tbody>\n",
       "</table>\n",
       "</div>"
      ],
      "text/plain": [
       "   index  Rank                                      Song  \\\n",
       "0      0   1.0                               wooly bully   \n",
       "1      1   2.0  i cant help myself sugar pie honey bunch   \n",
       "2      3   4.0                       you were on my mind   \n",
       "3      4   5.0              youve lost that lovin feelin   \n",
       "4      5   6.0                                  downtown   \n",
       "\n",
       "                          Artist    Year  \\\n",
       "0  sam the sham and the pharaohs  1965.0   \n",
       "1                      four tops  1965.0   \n",
       "2                        we five  1965.0   \n",
       "3         the righteous brothers  1965.0   \n",
       "4                   petula clark  1965.0   \n",
       "\n",
       "                                              Lyrics  Source  LyricLength  \\\n",
       "0  sam the sham miscellaneous wooly bully wooly b...     3.0          125   \n",
       "1   sugar pie honey bunch you know that i love yo...     1.0          204   \n",
       "2   when i woke up this morning you were on my mi...     1.0          152   \n",
       "3   you never close your eyes anymore when i kiss...     1.0          232   \n",
       "4   when youre alone and life is making you lonel...     1.0          239   \n",
       "\n",
       "   UniqueLyricsRatio  RepBigramsRatio century  \n",
       "0           0.512000         0.728000       0  \n",
       "1           0.460784         0.735294       0  \n",
       "2           0.289474         0.447368       0  \n",
       "3           0.379310         0.625000       0  \n",
       "4           0.502092         0.786611       0  "
      ]
     },
     "execution_count": 18,
     "metadata": {},
     "output_type": "execute_result"
    }
   ],
   "source": [
    "#bin years 1960 - 2000 and 2000 - 2020\n",
    "year_bins = pd.cut(song_data.Year, \\\n",
    "       [1960, 2000, 2020], \\\n",
    "       right = False, \\\n",
    "      labels = [0, 1])\n",
    "song_data['century'] = year_bins\n",
    "#List first 5 observations of df\n",
    "song_data.head()"
   ]
  },
  {
   "cell_type": "code",
   "execution_count": 19,
   "metadata": {
    "scrolled": true
   },
   "outputs": [
    {
     "data": {
      "text/plain": [
       "century\n",
       "0    3300\n",
       "1    1566\n",
       "dtype: int64"
      ]
     },
     "execution_count": 19,
     "metadata": {},
     "output_type": "execute_result"
    }
   ],
   "source": [
    "song_data.groupby('century').size()"
   ]
  },
  {
   "cell_type": "markdown",
   "metadata": {},
   "source": [
    "Above we can see our new column, *century*, and the distribution of classes.\n",
    "\n",
    "1900's songs outclass 2000's song by a factor of two."
   ]
  },
  {
   "cell_type": "markdown",
   "metadata": {},
   "source": [
    "## 3.2 Vectorize the Lyrics"
   ]
  },
  {
   "cell_type": "markdown",
   "metadata": {},
   "source": [
    "Now we take the lyrics column and feed it into a vectorizer.\n",
    "\n",
    "The vecorizer will clean, tokenize, convert to ngrams, and produce a sparse vector of float values for the lyric terms and ngrams. Using TfidfVectorizer(term frequency - inverse doc frequency) accounts for the frequency of a term occuring in a document(all of our song lyrics) when constructing the term float values."
   ]
  },
  {
   "cell_type": "code",
   "execution_count": 20,
   "metadata": {},
   "outputs": [
    {
     "name": "stdout",
     "output_type": "stream",
     "text": [
      "CPU times: user 5.61 s, sys: 209 ms, total: 5.82 s\n",
      "Wall time: 5.9 s\n"
     ]
    }
   ],
   "source": [
    "%%time\n",
    "\n",
    "#Instantiate vectorizer\n",
    "vectorizer = text.TfidfVectorizer(stop_words = 'english', \\\n",
    "                                  lowercase=True,\n",
    "                                  strip_accents='ascii',\n",
    "                                  ngram_range = (1,3), \\\n",
    "                                 max_features=5000, \\\n",
    "                                 max_df=.2)\n",
    "\n",
    "lyricsVec = vectorizer.fit_transform(song_data.Lyrics)\n"
   ]
  },
  {
   "cell_type": "markdown",
   "metadata": {},
   "source": [
    "We edited our vectorizer's parameters for a variety of reasons:\n",
    "* **stop_words** = 'english': removes english stop words from the input\n",
    "* **lowecase** = True: lowers all lyric's case. We already saw that they're already lowered but set this just in case\n",
    "* **strip_accents** = 'ascii': removes accents and punctuation\n",
    "* **ngram_range** = (1,3): also vectorizes ngrams between the given range. This provides more contextual information for our model\n",
    "* **max_features** = 5000: limits our features to only the most important 5000. This prevents too much noise inour model\n",
    "* **max_df** = .2: excludes words that have document frequency above .2. i.e. corpus-specific stop words such as 'love'"
   ]
  },
  {
   "cell_type": "markdown",
   "metadata": {},
   "source": [
    "## 3.3 Topic Modeling"
   ]
  },
  {
   "cell_type": "markdown",
   "metadata": {},
   "source": [
    "By using the NMF module in sklearn, we can break down the lyrics vector from above into five distinct *topics*. This is somewhat of an arbitrary number, however. We don't want too many topics because we want to have a simple and balanced group of topics and too few wouldn't be able to split our data well enough.\n",
    "\n",
    "We pick five but another analyst could just as easily pick ten or even twenty."
   ]
  },
  {
   "cell_type": "code",
   "execution_count": 21,
   "metadata": {},
   "outputs": [],
   "source": [
    "#Topic Modeling\n",
    "\n",
    "from sklearn.decomposition import NMF\n",
    "\n",
    "#Instantiate nmf with 10 components\n",
    "nmf_model = NMF(n_components = 5)\n",
    "#Fit model\n",
    "nmf_model.fit(lyricsVec)\n",
    "\n",
    "comps = nmf_model.components_.T\n",
    "#Get df of topics for model feature congregation later\n",
    "topics_df = pd.DataFrame(comps,  index=vectorizer.get_feature_names())\n",
    "topVecs = nmf_model.transform(lyricsVec)\n",
    "topVecs = pd.DataFrame(topVecs)"
   ]
  },
  {
   "cell_type": "markdown",
   "metadata": {},
   "source": [
    "We can see a messy print of our topics below."
   ]
  },
  {
   "cell_type": "code",
   "execution_count": 22,
   "metadata": {},
   "outputs": [
    {
     "name": "stdout",
     "output_type": "stream",
     "text": [
      "Topic 0 words: ['eyes', 'wont', 'world', 'hold', 'long', 'said', 'id', 'mind', 'believe', 'dont know']\n",
      "Topic 1 words: ['na', 'na na', 'na na na', 'da', 'murderer', 'da da', 'eh', 'da da da', 'rush', 'right na']\n",
      "Topic 2 words: ['oh oh', 'oh oh oh', 'whoa', 'whoa oh', 'whoa oh oh', 'oh whoa', 'stereo', 'oh whoa oh', 'oh yeah', 'oh oh whoa']\n",
      "Topic 3 words: ['la', 'la la', 'la la la', 'da', 'da da', 'da da da', 'world', 'sing', 'like im', 'jean']\n",
      "Topic 4 words: ['hey', 'ya', 'yeah yeah', 'dance', 'lets', 'man', 'rock', 'yeah yeah yeah', 'em', 'money']\n"
     ]
    }
   ],
   "source": [
    "for col in topics_df.columns:\n",
    "    print(\"Topic {} words: {}\".format(col, list(topics_df[col].sort_values(ascending=False).head(10).index)))"
   ]
  },
  {
   "cell_type": "markdown",
   "metadata": {},
   "source": [
    "These topics are created via the cosine similarity between the vectors we made form the lyrics. A result of this is phrases like 'na', 'na na', and 'na na na' being in the same topic. This isn't ideal but it doesn't mean it's bad.\n",
    "\n",
    "A song with lots of 'la la's is similar to a song with lots of 'da da's for example."
   ]
  },
  {
   "cell_type": "markdown",
   "metadata": {},
   "source": [
    "# 4 Model Building: Binary Classifier\n",
    "\n",
    "For our data, we want to be able to construct a model that accurately predicts whether a song is from the 20th or 21st century."
   ]
  },
  {
   "cell_type": "markdown",
   "metadata": {},
   "source": [
    "## 4.1 Densify Vectors and Combine Features\n",
    "\n",
    "To begin, we densify our sparse matrix to an array in order to 'attach' our engineered features to the vectorized lyrics and run them through the model together."
   ]
  },
  {
   "cell_type": "code",
   "execution_count": 23,
   "metadata": {},
   "outputs": [],
   "source": [
    "featuresDF = pd.DataFrame(lyricsVec.toarray())\n",
    "\n",
    "featuresDF = pd.concat([featuresDF, song_data.LyricLength], axis = 1)\n",
    "featuresDF = pd.concat([featuresDF, song_data.UniqueLyricsRatio], axis = 1)\n",
    "featuresDF = pd.concat([featuresDF, song_data.RepBigramsRatio], axis = 1)\n",
    "featuresDF = pd.concat([featuresDF, topVecs], axis = 1)\n"
   ]
  },
  {
   "cell_type": "code",
   "execution_count": 24,
   "metadata": {},
   "outputs": [
    {
     "data": {
      "text/plain": [
       "(4866, 5008)"
      ]
     },
     "execution_count": 24,
     "metadata": {},
     "output_type": "execute_result"
    }
   ],
   "source": [
    "featuresDF.shape"
   ]
  },
  {
   "cell_type": "markdown",
   "metadata": {},
   "source": [
    "## 4.2 Split the data"
   ]
  },
  {
   "cell_type": "markdown",
   "metadata": {},
   "source": [
    "Split the data into a training and testing set(80/20 split). This is for having some data to form a metric of how well our predicitons are."
   ]
  },
  {
   "cell_type": "code",
   "execution_count": 25,
   "metadata": {},
   "outputs": [],
   "source": [
    "#Split data into four variables\n",
    "x_train, x_test, y_train, y_test = train_test_split(featuresDF, song_data.century, \\\n",
    "                                                   test_size = .2)"
   ]
  },
  {
   "cell_type": "markdown",
   "metadata": {},
   "source": [
    "## 4.3 Multinomial Naive Bayes Modeling"
   ]
  },
  {
   "cell_type": "markdown",
   "metadata": {},
   "source": [
    "A multinomial naive bayes model is a good model for classifying documents(songs) based on a term or relative term frequency(our lyrics).\n",
    "\n",
    "This is a supervised learning algorithm so first we must fit our model onto our training data."
   ]
  },
  {
   "cell_type": "code",
   "execution_count": 26,
   "metadata": {},
   "outputs": [],
   "source": [
    "#Instantiate multinomial naive bayes\n",
    "MultNB = MultinomialNB()\n",
    "#Fit model on training data\n",
    "model_MNB = MultNB.fit(x_train, y_train)"
   ]
  },
  {
   "cell_type": "markdown",
   "metadata": {},
   "source": [
    "Now we will use our model to predict the century of our testing set's songs. We create a small dataframe of true labels then add our predictions to it so we can visualize and calculate classification metrics from it."
   ]
  },
  {
   "cell_type": "code",
   "execution_count": 27,
   "metadata": {},
   "outputs": [],
   "source": [
    "#Initialize df of true test labels\n",
    "results = pd.DataFrame({'Actual' : y_test})"
   ]
  },
  {
   "cell_type": "code",
   "execution_count": 28,
   "metadata": {},
   "outputs": [
    {
     "data": {
      "text/html": [
       "<div>\n",
       "<style scoped>\n",
       "    .dataframe tbody tr th:only-of-type {\n",
       "        vertical-align: middle;\n",
       "    }\n",
       "\n",
       "    .dataframe tbody tr th {\n",
       "        vertical-align: top;\n",
       "    }\n",
       "\n",
       "    .dataframe thead th {\n",
       "        text-align: right;\n",
       "    }\n",
       "</style>\n",
       "<table border=\"1\" class=\"dataframe\">\n",
       "  <thead>\n",
       "    <tr style=\"text-align: right;\">\n",
       "      <th></th>\n",
       "      <th>Actual</th>\n",
       "      <th>MNB</th>\n",
       "    </tr>\n",
       "  </thead>\n",
       "  <tbody>\n",
       "    <tr>\n",
       "      <th>1459</th>\n",
       "      <td>0</td>\n",
       "      <td>0</td>\n",
       "    </tr>\n",
       "    <tr>\n",
       "      <th>3497</th>\n",
       "      <td>1</td>\n",
       "      <td>1</td>\n",
       "    </tr>\n",
       "    <tr>\n",
       "      <th>3072</th>\n",
       "      <td>0</td>\n",
       "      <td>0</td>\n",
       "    </tr>\n",
       "    <tr>\n",
       "      <th>3703</th>\n",
       "      <td>1</td>\n",
       "      <td>1</td>\n",
       "    </tr>\n",
       "    <tr>\n",
       "      <th>1489</th>\n",
       "      <td>0</td>\n",
       "      <td>0</td>\n",
       "    </tr>\n",
       "    <tr>\n",
       "      <th>3874</th>\n",
       "      <td>1</td>\n",
       "      <td>0</td>\n",
       "    </tr>\n",
       "    <tr>\n",
       "      <th>2923</th>\n",
       "      <td>0</td>\n",
       "      <td>0</td>\n",
       "    </tr>\n",
       "    <tr>\n",
       "      <th>789</th>\n",
       "      <td>0</td>\n",
       "      <td>0</td>\n",
       "    </tr>\n",
       "    <tr>\n",
       "      <th>4182</th>\n",
       "      <td>1</td>\n",
       "      <td>1</td>\n",
       "    </tr>\n",
       "    <tr>\n",
       "      <th>675</th>\n",
       "      <td>0</td>\n",
       "      <td>0</td>\n",
       "    </tr>\n",
       "  </tbody>\n",
       "</table>\n",
       "</div>"
      ],
      "text/plain": [
       "     Actual  MNB\n",
       "1459      0    0\n",
       "3497      1    1\n",
       "3072      0    0\n",
       "3703      1    1\n",
       "1489      0    0\n",
       "3874      1    0\n",
       "2923      0    0\n",
       "789       0    0\n",
       "4182      1    1\n",
       "675       0    0"
      ]
     },
     "execution_count": 28,
     "metadata": {},
     "output_type": "execute_result"
    }
   ],
   "source": [
    "#Predict on test set with trained model\n",
    "predictions_MNB = model_MNB.predict(x_test)\n",
    "results['MNB'] = predictions_MNB\n",
    "results.head(10)"
   ]
  },
  {
   "cell_type": "markdown",
   "metadata": {},
   "source": [
    "For our metrics we use a combination of classification accuracy, Matthews Score, and ROC curves."
   ]
  },
  {
   "cell_type": "code",
   "execution_count": 29,
   "metadata": {},
   "outputs": [
    {
     "name": "stdout",
     "output_type": "stream",
     "text": [
      "Scores for model Actual\n",
      "Classification accuracy: 1.0\n",
      "Matthews Score: 1.0\n",
      "\n",
      "Scores for model MNB\n",
      "Classification accuracy: 0.7659137577002053\n",
      "Matthews Score: 0.43613946183688956\n",
      "\n"
     ]
    }
   ],
   "source": [
    "for col in results[1:]:\n",
    "    print(\"Scores for model\", col)\n",
    "    print(\"Classification accuracy:\", sklearn.metrics.accuracy_score(results.Actual, results[col]))\n",
    "    print('Matthews Score:', sklearn.metrics.matthews_corrcoef(results.Actual, results[col]))\n",
    "    print()"
   ]
  },
  {
   "cell_type": "markdown",
   "metadata": {},
   "source": [
    "Wow! About 80% accuracy on our run. This is better than expected. Along with a Matthews Score of .535 we can already say that we're definitely on to something.\n",
    "\n",
    "The Matthew's score takes into account the true and false positives of our predictions. Too extrapolate on those values we produce an ROC curve."
   ]
  },
  {
   "cell_type": "code",
   "execution_count": 30,
   "metadata": {},
   "outputs": [
    {
     "data": {
      "image/png": "[encoded data removed]",
      "text/plain": [
       "<Figure size 432x288 with 1 Axes>"
      ]
     },
     "metadata": {
      "needs_background": "light"
     },
     "output_type": "display_data"
    }
   ],
   "source": [
    "fpr = dict()\n",
    "tpr = dict()\n",
    "roc_auc = dict()\n",
    "for i in range(2):\n",
    "    fpr[i], tpr[i], _ = roc_curve(results.Actual, model_MNB.predict_proba(x_test)[:, 1])\n",
    "    roc_auc[i] = auc(fpr[i], tpr[i])\n",
    "\n",
    "roc1 = plt.figure()\n",
    "plt.plot(fpr[1], tpr[1])\n",
    "plt.xlim([0.0, 1.0])\n",
    "plt.ylim([0.0, 1.05])\n",
    "plt.xlabel('False Positive Rate')\n",
    "plt.ylabel('True Positive Rate')\n",
    "plt.title('Receiver operating characteristic')\n",
    "plt.show()"
   ]
  },
  {
   "cell_type": "markdown",
   "metadata": {},
   "source": [
    "The ROC curve identifies the possible true positive rate(TPR) against the possible false positive rate(FPR) depending on various *threshold* values.\n",
    "\n",
    "This ROC curve isn't the worst but it could certianly be better. It tells us that in order to get an 80% TPR we wold have to sacrifice for a 40% FPR.\n",
    "\n",
    "In other words, for us to predict a 2000's song as 2000's 80% of the time we would also - on average - have to predict a 1900's song as 2000's 40% of the time.\n",
    "\n",
    "Of course our plot shows an entire array of ratio's of TPR and FPR we could have for our purposes, but generally there isn't too good of a trade off."
   ]
  },
  {
   "cell_type": "markdown",
   "metadata": {},
   "source": [
    "## 4.4 Logistic Regression Modeling"
   ]
  },
  {
   "cell_type": "markdown",
   "metadata": {},
   "source": [
    "Now we move onto logistic regression to model our data. This is a common machine learning tool for binary classification.\n",
    "\n",
    "We do essentially the same method as we did for MNB."
   ]
  },
  {
   "cell_type": "code",
   "execution_count": 31,
   "metadata": {},
   "outputs": [],
   "source": [
    "lr = LogisticRegression(solver = 'lbfgs', max_iter=300)\n",
    "\n",
    "model_lr = lr.fit(x_train, y_train)\n"
   ]
  },
  {
   "cell_type": "code",
   "execution_count": 32,
   "metadata": {},
   "outputs": [
    {
     "data": {
      "text/html": [
       "<div>\n",
       "<style scoped>\n",
       "    .dataframe tbody tr th:only-of-type {\n",
       "        vertical-align: middle;\n",
       "    }\n",
       "\n",
       "    .dataframe tbody tr th {\n",
       "        vertical-align: top;\n",
       "    }\n",
       "\n",
       "    .dataframe thead th {\n",
       "        text-align: right;\n",
       "    }\n",
       "</style>\n",
       "<table border=\"1\" class=\"dataframe\">\n",
       "  <thead>\n",
       "    <tr style=\"text-align: right;\">\n",
       "      <th></th>\n",
       "      <th>Actual</th>\n",
       "      <th>MNB</th>\n",
       "      <th>LR</th>\n",
       "    </tr>\n",
       "  </thead>\n",
       "  <tbody>\n",
       "    <tr>\n",
       "      <th>1459</th>\n",
       "      <td>0</td>\n",
       "      <td>0</td>\n",
       "      <td>0</td>\n",
       "    </tr>\n",
       "    <tr>\n",
       "      <th>3497</th>\n",
       "      <td>1</td>\n",
       "      <td>1</td>\n",
       "      <td>1</td>\n",
       "    </tr>\n",
       "    <tr>\n",
       "      <th>3072</th>\n",
       "      <td>0</td>\n",
       "      <td>0</td>\n",
       "      <td>0</td>\n",
       "    </tr>\n",
       "    <tr>\n",
       "      <th>3703</th>\n",
       "      <td>1</td>\n",
       "      <td>1</td>\n",
       "      <td>1</td>\n",
       "    </tr>\n",
       "    <tr>\n",
       "      <th>1489</th>\n",
       "      <td>0</td>\n",
       "      <td>0</td>\n",
       "      <td>0</td>\n",
       "    </tr>\n",
       "    <tr>\n",
       "      <th>3874</th>\n",
       "      <td>1</td>\n",
       "      <td>0</td>\n",
       "      <td>0</td>\n",
       "    </tr>\n",
       "    <tr>\n",
       "      <th>2923</th>\n",
       "      <td>0</td>\n",
       "      <td>0</td>\n",
       "      <td>0</td>\n",
       "    </tr>\n",
       "    <tr>\n",
       "      <th>789</th>\n",
       "      <td>0</td>\n",
       "      <td>0</td>\n",
       "      <td>0</td>\n",
       "    </tr>\n",
       "    <tr>\n",
       "      <th>4182</th>\n",
       "      <td>1</td>\n",
       "      <td>1</td>\n",
       "      <td>1</td>\n",
       "    </tr>\n",
       "    <tr>\n",
       "      <th>675</th>\n",
       "      <td>0</td>\n",
       "      <td>0</td>\n",
       "      <td>0</td>\n",
       "    </tr>\n",
       "  </tbody>\n",
       "</table>\n",
       "</div>"
      ],
      "text/plain": [
       "     Actual  MNB  LR\n",
       "1459      0    0   0\n",
       "3497      1    1   1\n",
       "3072      0    0   0\n",
       "3703      1    1   1\n",
       "1489      0    0   0\n",
       "3874      1    0   0\n",
       "2923      0    0   0\n",
       "789       0    0   0\n",
       "4182      1    1   1\n",
       "675       0    0   0"
      ]
     },
     "execution_count": 32,
     "metadata": {},
     "output_type": "execute_result"
    }
   ],
   "source": [
    "#Predict on test set with trained model\n",
    "predictions_lr = model_lr.predict(x_test)\n",
    "results['LR'] = predictions_lr\n",
    "results.head(10)"
   ]
  },
  {
   "cell_type": "code",
   "execution_count": 33,
   "metadata": {},
   "outputs": [
    {
     "data": {
      "text/plain": [
       "LR\n",
       "0    749\n",
       "1    225\n",
       "dtype: int64"
      ]
     },
     "execution_count": 33,
     "metadata": {},
     "output_type": "execute_result"
    }
   ],
   "source": [
    "results.groupby('LR').size()"
   ]
  },
  {
   "cell_type": "markdown",
   "metadata": {},
   "source": [
    "Here we can see the distribution of predicted values our model produced.\n",
    "\n",
    "We would expect to see 0 outclass 1 by a factor of 2 as with our original data but this could just be due to how our data was split."
   ]
  },
  {
   "cell_type": "code",
   "execution_count": 34,
   "metadata": {},
   "outputs": [
    {
     "name": "stdout",
     "output_type": "stream",
     "text": [
      "Scores for model Actual\n",
      "Classification accuracy: 1.0\n",
      "Matthews Score: 1.0\n",
      "\n",
      "Scores for model MNB\n",
      "Classification accuracy: 0.7659137577002053\n",
      "Matthews Score: 0.43613946183688956\n",
      "\n",
      "Scores for model LR\n",
      "Classification accuracy: 0.795687885010267\n",
      "Matthews Score: 0.5040635322475084\n",
      "\n"
     ]
    }
   ],
   "source": [
    "#Print the metrics\n",
    "for col in results[1:]:\n",
    "    print(\"Scores for model\", col)\n",
    "    print(\"Classification accuracy:\", sklearn.metrics.accuracy_score(results.Actual, results[col]))\n",
    "    print('Matthews Score:', sklearn.metrics.matthews_corrcoef(results.Actual, results[col]))\n",
    "    print()\n",
    "    \n",
    "    "
   ]
  },
  {
   "cell_type": "markdown",
   "metadata": {},
   "source": [
    "Even better. Not by much but certianly the preferred model."
   ]
  },
  {
   "cell_type": "code",
   "execution_count": 35,
   "metadata": {
    "scrolled": true
   },
   "outputs": [
    {
     "data": {
      "image/png": "[encoded data removed]",
      "text/plain": [
       "<Figure size 432x288 with 1 Axes>"
      ]
     },
     "metadata": {
      "needs_background": "light"
     },
     "output_type": "display_data"
    }
   ],
   "source": [
    "fpr = dict()\n",
    "tpr = dict()\n",
    "roc_auc = dict()\n",
    "for i in range(2):\n",
    "    fpr[i], tpr[i], _ = roc_curve(results.Actual, model_lr.predict_proba(x_test)[:,1])\n",
    "    roc_auc[i] = auc(fpr[i], tpr[i])\n",
    "\n",
    "roc2 = plt.figure()\n",
    "plt.plot(fpr[1], tpr[1])\n",
    "plt.xlim([0.0, 1.0])\n",
    "plt.ylim([0.0, 1.05])\n",
    "plt.xlabel('False Positive Rate')\n",
    "plt.ylabel('True Positive Rate')\n",
    "plt.title('Receiver operating characteristic')\n",
    "plt.show()"
   ]
  },
  {
   "cell_type": "markdown",
   "metadata": {},
   "source": [
    "A much better ROC curve as well. To get 80% TPR we only need to have 20%. This isn't perfect but it's a huge step up from the trade of with multinomial naive bayes modeling.\n",
    "\n",
    "**A logistic model is more than satisfactory for representing and predicting the century a song was produced using lyrics.**"
   ]
  },
  {
   "cell_type": "markdown",
   "metadata": {},
   "source": [
    "## 4.3 Multiclass Classification"
   ]
  },
  {
   "cell_type": "markdown",
   "metadata": {},
   "source": [
    "Our model is somewhat good at predicting whether lyrics are from before or after 2000. At this point we want to push the limits of our predictive power and see if we can get a model to accurately predict the decade rather than century; either 1960's, 1970's, 1980's, 1990's, 2000's, or 2010's.\n",
    "\n",
    "We'll run through a condensed version of what we did above and view the results."
   ]
  },
  {
   "cell_type": "markdown",
   "metadata": {},
   "source": [
    "### 4.3.1 Binning years into decades"
   ]
  },
  {
   "cell_type": "markdown",
   "metadata": {},
   "source": [
    "We index each decade with an integer: 1, 2, 3, 4, or 5. This helps with the models to predict the classes and prevents errors."
   ]
  },
  {
   "cell_type": "code",
   "execution_count": 36,
   "metadata": {},
   "outputs": [],
   "source": [
    "year_bins = pd.cut(song_data.Year, \\\n",
    "       [1960, 1970, 1980, 1990, 2000, 2010, 2020], \\\n",
    "       right = False, \\\n",
    "      labels = [0, 1, 2, 3, 4, 5])\n",
    "song_data['decade'] = year_bins"
   ]
  },
  {
   "cell_type": "markdown",
   "metadata": {},
   "source": [
    "### 4.3.2 Split the data"
   ]
  },
  {
   "cell_type": "code",
   "execution_count": 37,
   "metadata": {},
   "outputs": [],
   "source": [
    "#Split data into four variables\n",
    "x_train2, x_test2, y_train2, y_test2 = train_test_split(featuresDF, song_data.decade, \\\n",
    "                                                   test_size = .2)"
   ]
  },
  {
   "cell_type": "markdown",
   "metadata": {},
   "source": [
    "### 4.3.3 Multiclass MNB"
   ]
  },
  {
   "cell_type": "code",
   "execution_count": 38,
   "metadata": {},
   "outputs": [],
   "source": [
    "model_MNB2 = MultNB.fit(x_train2, y_train2)\n",
    "\n",
    "#Initialize df of true test labels\n",
    "results2 = pd.DataFrame({'Actual' : y_test2})\n",
    "\n",
    "#Predict on test set with trained model\n",
    "predictions_MNB2 = model_MNB2.predict(x_test2)\n",
    "results2['MNB'] = predictions_MNB2"
   ]
  },
  {
   "cell_type": "markdown",
   "metadata": {},
   "source": [
    "### 4.3.4 Multiclass Logistic"
   ]
  },
  {
   "cell_type": "code",
   "execution_count": 39,
   "metadata": {},
   "outputs": [
    {
     "name": "stderr",
     "output_type": "stream",
     "text": [
      "/Users/drewpritchard/anaconda3/lib/python3.6/site-packages/sklearn/linear_model/logistic.py:460: FutureWarning: Default multi_class will be changed to 'auto' in 0.22. Specify the multi_class option to silence this warning.\n",
      "  \"this warning.\", FutureWarning)\n"
     ]
    }
   ],
   "source": [
    "model_lr2 = LogisticRegression(max_iter=300,\n",
    "                               multi_class='multinomial',\n",
    "                              solver='newton-cg')\n",
    "\n",
    "model_lr2 = lr.fit(x_train2, y_train2)\n"
   ]
  },
  {
   "cell_type": "code",
   "execution_count": 40,
   "metadata": {},
   "outputs": [
    {
     "data": {
      "text/html": [
       "<div>\n",
       "<style scoped>\n",
       "    .dataframe tbody tr th:only-of-type {\n",
       "        vertical-align: middle;\n",
       "    }\n",
       "\n",
       "    .dataframe tbody tr th {\n",
       "        vertical-align: top;\n",
       "    }\n",
       "\n",
       "    .dataframe thead th {\n",
       "        text-align: right;\n",
       "    }\n",
       "</style>\n",
       "<table border=\"1\" class=\"dataframe\">\n",
       "  <thead>\n",
       "    <tr style=\"text-align: right;\">\n",
       "      <th></th>\n",
       "      <th>Actual</th>\n",
       "      <th>MNB</th>\n",
       "      <th>LR</th>\n",
       "    </tr>\n",
       "  </thead>\n",
       "  <tbody>\n",
       "    <tr>\n",
       "      <th>1459</th>\n",
       "      <td>0</td>\n",
       "      <td>0</td>\n",
       "      <td>0</td>\n",
       "    </tr>\n",
       "    <tr>\n",
       "      <th>3497</th>\n",
       "      <td>1</td>\n",
       "      <td>1</td>\n",
       "      <td>1</td>\n",
       "    </tr>\n",
       "    <tr>\n",
       "      <th>3072</th>\n",
       "      <td>0</td>\n",
       "      <td>0</td>\n",
       "      <td>0</td>\n",
       "    </tr>\n",
       "    <tr>\n",
       "      <th>3703</th>\n",
       "      <td>1</td>\n",
       "      <td>1</td>\n",
       "      <td>1</td>\n",
       "    </tr>\n",
       "    <tr>\n",
       "      <th>1489</th>\n",
       "      <td>0</td>\n",
       "      <td>0</td>\n",
       "      <td>0</td>\n",
       "    </tr>\n",
       "  </tbody>\n",
       "</table>\n",
       "</div>"
      ],
      "text/plain": [
       "     Actual  MNB  LR\n",
       "1459      0    0   0\n",
       "3497      1    1   1\n",
       "3072      0    0   0\n",
       "3703      1    1   1\n",
       "1489      0    0   0"
      ]
     },
     "execution_count": 40,
     "metadata": {},
     "output_type": "execute_result"
    }
   ],
   "source": [
    "#Predict on test set with trained model\n",
    "predictions_lr2 = model_lr2.predict(x_test2)\n",
    "results2['LR'] = predictions_lr2\n",
    "results.head()"
   ]
  },
  {
   "cell_type": "code",
   "execution_count": 41,
   "metadata": {},
   "outputs": [
    {
     "name": "stdout",
     "output_type": "stream",
     "text": [
      "Scores for model Actual\n",
      "Classification accuracy: 1.0\n",
      "Matthews Score: 1.0\n",
      "\n",
      "Scores for model MNB\n",
      "Classification accuracy: 0.25256673511293637\n",
      "Matthews Score: 0.10327307417706146\n",
      "\n",
      "Scores for model LR\n",
      "Classification accuracy: 0.37782340862423\n",
      "Matthews Score: 0.2345680106220286\n",
      "\n"
     ]
    }
   ],
   "source": [
    "for col in results2[1:]:\n",
    "    print(\"Scores for model\", col)\n",
    "    print(\"Classification accuracy:\", accuracy_score(results2.Actual, results2[col]))\n",
    "    print('Matthews Score:', matthews_corrcoef(results2.Actual, results2[col]))\n",
    "    print()\n",
    "    "
   ]
  },
  {
   "cell_type": "markdown",
   "metadata": {},
   "source": [
    "For the MNB model we earned an accuracy of 24.85% and a Matthews Score of 0.088.\n",
    "\n",
    "For the Logistic Regression modle we earned 42.20% accuracy and a Matthews Score of .2928.\n",
    "\n",
    "Again, we see that the logistic regression model does a better job at predicting class labels. However both models perform relatively poorly when our problem is multiclass.\n",
    "\n",
    "This could be for several reasons such as unaccounted for latent variables or too little data. We should stick to predicting with our original binary class model."
   ]
  },
  {
   "cell_type": "markdown",
   "metadata": {},
   "source": [
    "# 5 Predicting from External Sources"
   ]
  },
  {
   "cell_type": "markdown",
   "metadata": {},
   "source": [
    "Now that we've successfully built a predictive model for top 100 billboard songs, it would be interesting to see how well our model performs when fed lyrics that **aren't** on the top 100 billboard of any year. In other words, how well do the billboard songs represent all songs from their respective year?"
   ]
  },
  {
   "cell_type": "markdown",
   "metadata": {},
   "source": [
    "## 5.1 Feature engineering function"
   ]
  },
  {
   "cell_type": "markdown",
   "metadata": {},
   "source": [
    "Second, we need a function that does all of our feature engineering on any string that is inputted later on. Meaning we need to calculate lyric count, unique lyric frequency, repetitivness, tokenize and vectorize the lyrics, and topic model."
   ]
  },
  {
   "cell_type": "code",
   "execution_count": 42,
   "metadata": {},
   "outputs": [],
   "source": [
    "#Clean string and output tfidvector\n",
    "def getLyricFeatures(line):\n",
    "\n",
    "    line = pd.Series(line) #TESTTESTTEST\n",
    "\n",
    "    #Vectorize lyrics from 'line' input(uses vectorizer form section 4)\n",
    "    lineVec = vectorizer.transform(line)\n",
    "\n",
    "    #Topic model\n",
    "    topVecs = nmf_model.transform(lineVec)\n",
    "    topVecs = pd.DataFrame(topVecs)\n",
    "\n",
    "    ###Essentially same code in part 2###\n",
    "\n",
    "    # 1 Tokenize lyrics\n",
    "\n",
    "    # 2 Get length of lyrics\n",
    "    tokens = tokenizer.tokenize(line[0])\n",
    "    LyricLength = (len(tokens))\n",
    "\n",
    "    # 3 Get unique lyric frequency\n",
    "    counts = Counter(tokens)\n",
    "    uniqueLyricsRatio = len(counts) / LyricLength\n",
    "\n",
    "    # 4 Get bigrams, unique bigrams, unique bigrams frequncy\n",
    "    bigrams = list(nltk.ngrams(toks, 2))\n",
    "    uniqueBigramsCount = len(Counter(bigrams))\n",
    "    repBigramsRatio = uniqueBigramsCount/LyricLength\n",
    "\n",
    "    ###Combine features###\n",
    "\n",
    "    featuresDF = pd.DataFrame(lineVec.toarray())\n",
    "\n",
    "    featuresDF = pd.concat([featuresDF, pd.Series(LyricLength)], axis = 1)\n",
    "    featuresDF = pd.concat([featuresDF, pd.Series(uniqueLyricsRatio)], axis = 1)\n",
    "    featuresDF = pd.concat([featuresDF, pd.Series(repBigramsRatio)], axis = 1)\n",
    "    featuresDF = pd.concat([featuresDF, (topVecs)], axis = 1)\n",
    "\n",
    "    return(featuresDF)"
   ]
  },
  {
   "cell_type": "markdown",
   "metadata": {},
   "source": [
    "## 5.2 User input function\n",
    "\n",
    "Now we write a function to take in user input and spit out the prediction and confidence of the prediction as percentage probability.\n",
    "\n"
   ]
  },
  {
   "cell_type": "code",
   "execution_count": 46,
   "metadata": {},
   "outputs": [],
   "source": [
    "def guessCen():\n",
    "    \n",
    "    lyric = input()\n",
    "    inputFeats = getLyricFeatures(lyric)\n",
    "\n",
    "    #Predict on test set with trained model\n",
    "    prediction = model_lr.predict(inputFeats)\n",
    "    prediction[0]\n",
    "\n",
    "    if prediction[0] == 0: \n",
    "        print(\"That song is from the {}\".format(\"1900's\"),\n",
    "             'with a probability of {}'.format(model_lr.predict_proba(inputFeats)[0][0]),\n",
    "             'percent.')\n",
    "\n",
    "    if prediction[0] == 1: \n",
    "        print(\"That song is from the {}\".format(\"2000's\"),\n",
    "             'with a probability of {}'.format(model_lr.predict_proba(inputFeats)[0][1]),\n",
    "             'percent.')"
   ]
  },
  {
   "cell_type": "markdown",
   "metadata": {},
   "source": [
    "## 5.3 Testing it\n",
    "\n",
    "We have to make sure that the lyrics we input aren't in our corpus. So we stear away from songs that have been in the BillBoard Top 100 between 1965 and 2015.\n",
    "\n",
    "Let's see if Beyonce's 'Freedom' from 2016 performs in our function."
   ]
  },
  {
   "cell_type": "code",
   "execution_count": 48,
   "metadata": {},
   "outputs": [
    {
     "name": "stdout",
     "output_type": "stream",
     "text": [
      "Baby you're the only man that I want Baby you'e the only man that I love Baby you'e the only man that truely makes me happy So happy Baby you're the only man that I want Baby you're the only man that I love Baby you're the only man that truely makes me happy So happy I'm sooo happy I met you It's been a crazy afternoon And I can't wait till I get home to you Cause I've been thinking about you all day long I hope you miss me boy, cause here I come Boy I love the way you move And I am love [? ] love with you Sometimes I wonder how it feels to be as beautiful as you [? ] baby Baby you're the only man that I want Baby you'e the only man that I love Baby you'e the only man that truely makes me happy So happy Baby you're the only man that I want Baby you're the only man that I love Baby you're the only man that truely makes me happy So happy I'm sooo happy I met you And I love the things you do Baby only I can get close to you The thought I fell in love with you You got the quailities I've been lookin for So glad [? ] I'm so dangerously in love with you [? ] when I'm with chu boo Your so good to me And that's why I'm happy I met you Baby you're the only man that I want Baby you'e the only man that I love Baby you'e the only man that truely makes me happy So happy Baby you're the only man that I want Baby you're the only man that I love Baby you're the only man that truely makes me happy So happy I'm sooo happy I met you You make me happy Put a smile on my face Just thinking about you (I'm so happy I found you) You make me happy Put a smile on my face Just thinking about you (I'm so happy I met you) I'm your baby [? ] trough out my day I do love you (so happy I met you) You make me happy Put a smile on my face Thinking about you(yeaaa) I'm so happpy I met you Baby you're the only man that I want Baby you'e the only man that I love Baby you'e the only man that truely makes me happy So happy Baby you're the only man that I want Baby you're the only man that I love Baby you're the only man that truely makes me happy So happy I'm sooo happy I met you\n"
     ]
    }
   ],
   "source": [
    "guessCen()"
   ]
  },
  {
   "cell_type": "markdown",
   "metadata": {},
   "source": [
    "Awesome, it predicts it correctly with 73% confidence. Let's try it with a 90's song: Capleton's 'hurt my head' from 1997."
   ]
  },
  {
   "cell_type": "code",
   "execution_count": 47,
   "metadata": {},
   "outputs": [
    {
     "name": "stdout",
     "output_type": "stream",
     "text": [
      "It hurts my heart Got to share my thoughts It hurts my heart They won't walk the righteous path When me go so almshouse an' me no want that 'bout Dem go walk bout a run up dem mouth After me lef from Jamaica go a foreign pon tour When me come back dem turn big time sell out When me did say woman me, lotion me, no lotion man That dismantle dem boogeying plan Then me go say music is a mission not a competition Nuff a dem run go turn carbon Then me say the heathen dem a rage Ask dem how long and tell dem hold a meditation Well, I say it hurt my heart, heart And I got to share my thought, thought, thought Judgment When me tell dem watch how dem flex and how dem program Dem put on the wings of the morning and fly When me say don't try to trick I you little Satan spy Dem build coffin and prepare fi die Tell dem no dis the trinity and dem can't sleep a night Dem get the treat and no take the warning Then me go say wake up in the glorious morning I man see Babylon but your kingdom is falling Then me juggle again and sing Well, I say it hurt my heart, heart And I got to share my thought, thought, thought Judgment When me get the new talk fi spread Babylon think me dead Who seek a live and I say who talk dead Fire red Cold cold cold cold blooded murderer Oonu fi look out Live clean so that your works can be seen Me bawl why why mankind dem so cuvitch Well, I say it hurt my heart, heart And I got to share my thought, thought, thought Judgment Well me say dem hard fi believe And me see it from afar Dem no like me and me no like dem When me go? While the sun shine Nuff a dem still come get bad mind Then me go say war upon the leader dem mind But a long time? And again well, oh, Dem a gwaan like dem good so And again.. oh Dem a gwaan like dem a bad so Then me have fi light up mi callie so go burn down Rome Then chant burn down Sodom Babylon know me make me want chant me song Well a long time we warn dem and dem neva want listen Well, I say it hurt my heart, heart And I got to share my thought, thought, thought Judgment It hurts my heart Got to share my thoughts It hurts my heart They won't walk the righteous path When me go so almshouse an me no want that bout Dem go walk bout a run up dem mouth After me lef from Jamaica go a foreign pon tour When me come back dem turn big time sell out When me did say woman me lotion me no lotion man That dismantle dem boogeying plan Then me go say music is a mission not a competition Nuff a dem run go turn carbon Then me say the heathen dem a rage Ask dem how long and tell dem hold a meditation Well, I say it hurt my heart, heart And I got to share my thought, thought, thought Judgment When me tell dem watch how dem flex and how dem program Dem put on the wings of the morning and fly When me say don't try to trick I you little Satan spy Dem build coffin and prepare fi die Tell dem no dis the trinity and dem can't sleep a night Dem get the treat and no take the warning Then me go say wake up in the glorious morning I man see Babylon but your kingdom is falling Then me juggle again and sing Well, I say it hurt my heart, heart And I got to share my thought, thought, thought Judgment When me get the new talk fi spread Babylon think me dead Who seek a live and I say who talk dead Fire red Cold cold cold cold blooded murderer Oonu fi look out Live clean so that your works can be seen Me bawl why why mankind dem so cuvitch Well, I say it hurt my heart, heart And I got to share my thought, thought, thought Judgment Well me say dem hard fi believe And me see it from afar Dem no like me and me no like dem When me go? While the sun shine Nuff a dem still come get bad mind Then me go say war upon the leader dem mind But a long time? And again well, oh, Dem a gwaan like dem good so And again.. oh Dem a gwaan like dem a bad so Then me have fi light up mi callie so go burn down Rome Then chant burn down Sodom Babylon know me make me want chant me song Well a long time we warn dem and dem neva want listen Well, I say it hurt my heart, heart And I got to share my thought, thought, thought Judgment\n"
     ]
    }
   ],
   "source": [
    "guessCen()"
   ]
  },
  {
   "cell_type": "markdown",
   "metadata": {},
   "source": [
    "It got this one wrong. This one was near the cusp of where the two classes meet so it's not quite unexpected..."
   ]
  },
  {
   "cell_type": "markdown",
   "metadata": {},
   "source": [
    "# 6 Conclusion"
   ]
  },
  {
   "cell_type": "markdown",
   "metadata": {},
   "source": [
    "We began with a corpus of the Top 100 BillBoard songs over the course of about 50 years and two questions: Are the lyrics of popular songs changing over time? And if so, can we use the corpus to predict when a song was produced?\n",
    "\n",
    "After a series of tedious natural language processing and machine learning methods we can confidently say yes to both. \n",
    "\n",
    "While there is room for improvement we're happy with the results."
   ]
  }
 ],
 "metadata": {
  "kernelspec": {
   "display_name": "Python 3",
   "language": "python",
   "name": "python3"
  },
  "language_info": {
   "codemirror_mode": {
    "name": "ipython",
    "version": 3
   },
   "file_extension": ".py",
   "mimetype": "text/x-python",
   "name": "python",
   "nbconvert_exporter": "python",
   "pygments_lexer": "ipython3",
   "version": "3.6.8"
  }
 },
 "nbformat": 4,
 "nbformat_minor": 2
}
